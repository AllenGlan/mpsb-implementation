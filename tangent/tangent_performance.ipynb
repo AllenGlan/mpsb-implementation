{
 "cells": [
  {
   "cell_type": "code",
   "execution_count": 2,
   "metadata": {},
   "outputs": [],
   "source": [
    "from subprocess import call\n",
    "import copy\n",
    "import numpy as np\n",
    "import matplotlib.pyplot as plt\n",
    "import csv\n",
    "%matplotlib notebook"
   ]
  },
  {
   "cell_type": "code",
   "execution_count": 3,
   "metadata": {},
   "outputs": [],
   "source": [
    "PTS_P_FILE = \"pts_p_file.csv\"\n",
    "PTS_Q_FILE = \"pts_q_file.csv\"\n",
    "PERF_FILE = \"perf_file.csv\"\n",
    "PROGRAM_PATH = \"./main\""
   ]
  },
  {
   "cell_type": "code",
   "execution_count": 4,
   "metadata": {},
   "outputs": [],
   "source": [
    "# Get current size\n",
    "fig_size = plt.rcParams[\"figure.figsize\"]\n",
    " \n",
    "# Set figure width to 12 and height to 9\n",
    "fig_size[0] = 5\n",
    "fig_size[1] = 5\n",
    "plt.rcParams[\"figure.figsize\"] = fig_size"
   ]
  },
  {
   "cell_type": "code",
   "execution_count": 5,
   "metadata": {},
   "outputs": [],
   "source": [
    "# Random point generation in square region\n",
    "def generate_rand_pts_sq(x, y, r, num):\n",
    "    ret_list = []\n",
    "    for i in range(num):\n",
    "        ret_list.append((2 * r * np.random.random_sample() + x - r,\n",
    "                     2 * r * np.random.random_sample() + y - r))\n",
    "    return ret_list"
   ]
  },
  {
   "cell_type": "code",
   "execution_count": 6,
   "metadata": {},
   "outputs": [],
   "source": [
    "# Random point generation in disk region (discard method)\n",
    "def generate_rand_pts_disk(x, y, r, num):\n",
    "    ret_list = []\n",
    "    i = 0\n",
    "    while i < num:\n",
    "        pnt = (\n",
    "            (2 * r * np.random.random_sample() + x - r),\n",
    "            (2 * r * np.random.random_sample() + y - r)\n",
    "        )\n",
    "        if (pnt[0] - x)**2 + (pnt[1] - y)**2 <= r**2:\n",
    "            ret_list.append(pnt)\n",
    "            i += 1\n",
    "    return ret_list"
   ]
  },
  {
   "cell_type": "code",
   "execution_count": 7,
   "metadata": {},
   "outputs": [],
   "source": [
    "# Random point generation in disk region (discard method)\n",
    "def generate_rand_pts_circ(x, y, r, num):\n",
    "    ret_list = []\n",
    "    for i in range(num):\n",
    "        theta = 2 * np.pi * np.random.random_sample()\n",
    "        pnt = (\n",
    "            r * np.cos(theta),\n",
    "            r * np.sin(theta)\n",
    "        )\n",
    "        ret_list.append(pnt)\n",
    "    return ret_list"
   ]
  },
  {
   "cell_type": "code",
   "execution_count": 8,
   "metadata": {},
   "outputs": [],
   "source": [
    "def write_pts_list(pts_list, PTS_FILE):\n",
    "    with open(PTS_FILE, \"w\") as pts_file:\n",
    "        for pnt in pts_list:\n",
    "            pts_file.write(str(pnt[0]) + \",\" + str(pnt[1]) + \"\\n\")"
   ]
  },
  {
   "cell_type": "code",
   "execution_count": 9,
   "metadata": {},
   "outputs": [],
   "source": [
    "def read_pts_list(PTS_FILE):\n",
    "    pts_list = []\n",
    "    with open(PTS_FILE) as pts_file:\n",
    "        csv_reader = csv.reader(pts_file, delimiter=\",\")\n",
    "        for row in csv_reader:\n",
    "            pts_list.append(tuple(map(float, row)))\n",
    "        return pts_list"
   ]
  },
  {
   "cell_type": "code",
   "execution_count": 10,
   "metadata": {},
   "outputs": [],
   "source": [
    "def move_pnt(pnt, delta_x, delta_y):\n",
    "    new_pnt = (pnt[0] + delta_x, pnt[1] + delta_y)\n",
    "    return new_pnt"
   ]
  },
  {
   "cell_type": "code",
   "execution_count": 11,
   "metadata": {},
   "outputs": [],
   "source": [
    "def replace_pnt(pts_list, pnt, new_pnt): # returns new list with pnt replaced with new_pnt\n",
    "    assert pnt in pts_list\n",
    "    ret_list = copy.deepcopy(pts_list)\n",
    "    ret_list.remove(pnt)\n",
    "    ret_list.append(new_pnt)\n",
    "    return ret_list"
   ]
  },
  {
   "cell_type": "code",
   "execution_count": 12,
   "metadata": {},
   "outputs": [],
   "source": [
    "def plot_pts_list(pts_list):\n",
    "    plt.scatter(np.array(pts_list)[:,0], np.array(pts_list)[:,1], s=4, c=[[0,0,0]])\n",
    "    plt.grid(True)\n",
    "    plt.xlabel(\"x coordinate\")\n",
    "    plt.ylabel(\"y coordinate\")\n",
    "    plt.axes().set_aspect('equal')\n",
    "    plt.show()"
   ]
  },
  {
   "cell_type": "code",
   "execution_count": 13,
   "metadata": {},
   "outputs": [],
   "source": [
    "def run_average(num_iter, samp_func, xp, yp, rp, np, xq, yq, rq, nq):\n",
    "    perf_dict = dict()\n",
    "    for i in range(num_iter):\n",
    "        write_pts_list(samp_func(xp, yp, rp, np), PTS_P_FILE)\n",
    "        write_pts_list(samp_func(xq, yq, rq, nq), PTS_Q_FILE)\n",
    "        call(PROGRAM_PATH)\n",
    "        with open(PERF_FILE) as perf_file:\n",
    "            csv_reader = csv.reader(perf_file, delimiter=\",\")\n",
    "            for row in csv_reader:\n",
    "                if (row[0] in perf_dict):\n",
    "                    perf_dict[row[0]] += float(row[1])\n",
    "                else:\n",
    "                    perf_dict[row[0]] = float(row[1])\n",
    "    for i in perf_dict.keys():\n",
    "        perf_dict[i] /= num_iter\n",
    "    return perf_dict"
   ]
  },
  {
   "cell_type": "code",
   "execution_count": 14,
   "metadata": {},
   "outputs": [],
   "source": [
    "sq_res = [run_average(1000, generate_rand_pts_sq, *(-1000, 0, 500, 2**i), *(-1000, 0, 500, 2**i))['tang'] for i in range(16)]"
   ]
  },
  {
   "cell_type": "code",
   "execution_count": 15,
   "metadata": {},
   "outputs": [],
   "source": [
    "circ_res = [run_average(1000, generate_rand_pts_circ, *(-1000, 0, 500, 2**i), *(-1000, 0, 500, 2**i))['tang'] for i in range(16)]"
   ]
  },
  {
   "cell_type": "code",
   "execution_count": 16,
   "metadata": {},
   "outputs": [],
   "source": [
    "disk_res = [run_average(1000, generate_rand_pts_disk, *(-1000, 0, 500, 2**i), *(-1000, 0, 500, 2**i))['tang'] for i in range(16)]"
   ]
  },
  {
   "cell_type": "code",
   "execution_count": 19,
   "metadata": {},
   "outputs": [
    {
     "data": {
      "text/plain": [
       "[<matplotlib.lines.Line2D at 0x7fce840e8710>]"
      ]
     },
     "execution_count": 19,
     "metadata": {},
     "output_type": "execute_result"
    },
    {
     "data": {
      "image/png": "[encoded data removed]",
      "text/plain": [
       "<Figure size 360x360 with 1 Axes>"
      ]
     },
     "metadata": {
      "needs_background": "light"
     },
     "output_type": "display_data"
    }
   ],
   "source": [
    "plt.plot(sq_res)"
   ]
  },
  {
   "cell_type": "code",
   "execution_count": 22,
   "metadata": {},
   "outputs": [
    {
     "data": {
      "text/plain": [
       "Text(0.5, 0, 'Polygon size (2^x)')"
      ]
     },
     "execution_count": 22,
     "metadata": {},
     "output_type": "execute_result"
    },
    {
     "data": {
      "image/png": "[encoded data removed]",
      "text/plain": [
       "<Figure size 360x360 with 1 Axes>"
      ]
     },
     "metadata": {
      "needs_background": "light"
     },
     "output_type": "display_data"
    }
   ],
   "source": [
    "plt.plot(circ_res, c=(0,0,0))\n",
    "plt.xlabel(\"Polygon size (2^x)\")"
   ]
  },
  {
   "cell_type": "code",
   "execution_count": 23,
   "metadata": {},
   "outputs": [
    {
     "data": {
      "text/plain": [
       "[<matplotlib.lines.Line2D at 0x7fce996d1518>]"
      ]
     },
     "execution_count": 23,
     "metadata": {},
     "output_type": "execute_result"
    },
    {
     "data": {
      "image/png": "[encoded data removed]",
      "text/plain": [
       "<Figure size 360x360 with 1 Axes>"
      ]
     },
     "metadata": {
      "needs_background": "light"
     },
     "output_type": "display_data"
    }
   ],
   "source": [
    "plt.plot(disk_res)"
   ]
  },
  {
   "cell_type": "code",
   "execution_count": 17,
   "metadata": {},
   "outputs": [
    {
     "data": {
      "text/plain": [
       "[16.41,\n",
       " 77.905,\n",
       " 145.531,\n",
       " 189.295,\n",
       " 216.04,\n",
       " 239.988,\n",
       " 257.665,\n",
       " 271.783,\n",
       " 285.58,\n",
       " 298.707,\n",
       " 309.937,\n",
       " 319.422,\n",
       " 325.527,\n",
       " 332.519,\n",
       " 338.45,\n",
       " 342.493]"
      ]
     },
     "execution_count": 17,
     "metadata": {},
     "output_type": "execute_result"
    }
   ],
   "source": [
    "sq_res"
   ]
  },
  {
   "cell_type": "code",
   "execution_count": 18,
   "metadata": {},
   "outputs": [
    {
     "data": {
      "text/plain": [
       "[16.316,\n",
       " 76.176,\n",
       " 148.889,\n",
       " 213.624,\n",
       " 276.383,\n",
       " 334.66,\n",
       " 396.601,\n",
       " 460.833,\n",
       " 521.057,\n",
       " 587.915,\n",
       " 649.054,\n",
       " 708.362,\n",
       " 778.851,\n",
       " 848.617,\n",
       " 920.486,\n",
       " 996.625]"
      ]
     },
     "execution_count": 18,
     "metadata": {},
     "output_type": "execute_result"
    }
   ],
   "source": [
    "circ_res"
   ]
  },
  {
   "cell_type": "code",
   "execution_count": 19,
   "metadata": {},
   "outputs": [
    {
     "data": {
      "text/plain": [
       "[15.865,\n",
       " 77.384,\n",
       " 144.117,\n",
       " 186.961,\n",
       " 222.182,\n",
       " 251.854,\n",
       " 276.92,\n",
       " 302.073,\n",
       " 323.723,\n",
       " 340.27,\n",
       " 366.577,\n",
       " 393.628,\n",
       " 404.821,\n",
       " 436.493,\n",
       " 453.361,\n",
       " 465.007]"
      ]
     },
     "execution_count": 19,
     "metadata": {},
     "output_type": "execute_result"
    }
   ],
   "source": [
    "disk_res"
   ]
  },
  {
   "cell_type": "code",
   "execution_count": null,
   "metadata": {},
   "outputs": [],
   "source": []
  }
 ],
 "metadata": {
  "kernelspec": {
   "display_name": "Python 3",
   "language": "python",
   "name": "python3"
  },
  "language_info": {
   "codemirror_mode": {
    "name": "ipython",
    "version": 3
   },
   "file_extension": ".py",
   "mimetype": "text/x-python",
   "name": "python",
   "nbconvert_exporter": "python",
   "pygments_lexer": "ipython3",
   "version": "3.6.6"
  }
 },
 "nbformat": 4,
 "nbformat_minor": 2
}
