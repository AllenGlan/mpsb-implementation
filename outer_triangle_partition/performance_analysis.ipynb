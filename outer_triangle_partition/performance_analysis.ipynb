{
 "cells": [
  {
   "cell_type": "code",
   "execution_count": 1,
   "metadata": {},
   "outputs": [],
   "source": [
    "from subprocess import call\n",
    "import copy\n",
    "import numpy as np\n",
    "import matplotlib.pyplot as plt\n",
    "import csv\n",
    "%matplotlib notebook"
   ]
  },
  {
   "cell_type": "code",
   "execution_count": 2,
   "metadata": {},
   "outputs": [],
   "source": [
    "PTS_FILE = \"pts_file.csv\"\n",
    "PERF_FILE = \"perf_file.csv\"\n",
    "PROGRAM_PATH = \"./main\""
   ]
  },
  {
   "cell_type": "code",
   "execution_count": 15,
   "metadata": {},
   "outputs": [],
   "source": [
    "# Get current size\n",
    "fig_size = plt.rcParams[\"figure.figsize\"]\n",
    " \n",
    "# Set figure width to 12 and height to 9\n",
    "fig_size[0] = 5\n",
    "fig_size[1] = 5\n",
    "plt.rcParams[\"figure.figsize\"] = fig_size"
   ]
  },
  {
   "cell_type": "code",
   "execution_count": 4,
   "metadata": {},
   "outputs": [],
   "source": [
    "# Lattice generation\n",
    "def generate_lattice(xnum, ynum):\n",
    "    x = np.linspace(0, xnum - 1, num=xnum)\n",
    "    y = np.linspace(0, ynum - 1, num=ynum)\n",
    "    xv, yv = np.meshgrid(x, y)\n",
    "    lattice_list = list(zip(xv.flatten(), yv.flatten()))\n",
    "    return lattice_list"
   ]
  },
  {
   "cell_type": "code",
   "execution_count": 5,
   "metadata": {},
   "outputs": [],
   "source": [
    "def write_pts_list(pts_list):\n",
    "    with open(PTS_FILE, \"w\") as pts_file:\n",
    "        for pnt in pts_list:\n",
    "            pts_file.write(str(pnt[0]) + \",\" + str(pnt[1]) + \"\\n\")"
   ]
  },
  {
   "cell_type": "code",
   "execution_count": 6,
   "metadata": {},
   "outputs": [],
   "source": [
    "def read_pts_list():\n",
    "    pts_list = []\n",
    "    with open(PTS_FILE) as pts_file:\n",
    "        csv_reader = csv.reader(pts_file, delimiter=\",\")\n",
    "        for row in csv_reader:\n",
    "            pts_list.append(tuple(map(float, row)))\n",
    "        return pts_list"
   ]
  },
  {
   "cell_type": "code",
   "execution_count": 7,
   "metadata": {},
   "outputs": [],
   "source": [
    "def move_pnt(pnt, delta_x, delta_y):\n",
    "    new_pnt = (pnt[0] + delta_x, pnt[1] + delta_y)\n",
    "    return new_pnt"
   ]
  },
  {
   "cell_type": "code",
   "execution_count": 8,
   "metadata": {},
   "outputs": [],
   "source": [
    "def replace_pnt(pts_list, pnt, new_pnt): # returns new list with pnt replaced with new_pnt\n",
    "    assert pnt in pts_list\n",
    "    ret_list = copy.deepcopy(pts_list)\n",
    "    ret_list.remove(pnt)\n",
    "    ret_list.append(new_pnt)\n",
    "    return ret_list"
   ]
  },
  {
   "cell_type": "code",
   "execution_count": 9,
   "metadata": {},
   "outputs": [],
   "source": [
    "def plot_pts_list(pts_list):\n",
    "    plt.scatter(np.array(pts_list)[:,0], np.array(pts_list)[:,1], s=4, c=(0,0,0))\n",
    "    plt.grid(True)\n",
    "    plt.xlabel(\"x coordinate\")\n",
    "    plt.ylabel(\"y coordinate\")\n",
    "    plt.axes().set_aspect('equal')\n",
    "    plt.show()"
   ]
  },
  {
   "cell_type": "code",
   "execution_count": 10,
   "metadata": {},
   "outputs": [],
   "source": [
    "def run_average(num_iter):\n",
    "    perf_dict = dict()\n",
    "    for i in range(num_iter):\n",
    "        call(PROGRAM_PATH)\n",
    "        with open(PERF_FILE) as perf_file:\n",
    "            csv_reader = csv.reader(perf_file, delimiter=\",\")\n",
    "            for row in csv_reader:\n",
    "                if (row[0] in perf_dict):\n",
    "                    perf_dict[row[0]] += float(row[1])\n",
    "                else:\n",
    "                    perf_dict[row[0]] = float(row[1])\n",
    "    for i in perf_dict.keys():\n",
    "        perf_dict[i] /= num_iter\n",
    "    return perf_dict"
   ]
  },
  {
   "cell_type": "code",
   "execution_count": 23,
   "metadata": {},
   "outputs": [],
   "source": [
    "def gradient(pts_list, pnt, num_iter, sample_range, eta, category):\n",
    "    # sample x-y direction\n",
    "    pnt_xl = move_pnt(pnt, -sample_range, 0)\n",
    "    list_xl = replace_pnt(pts_list, pnt, pnt_xl)\n",
    "    # plot_pts_list(list_xl)\n",
    "    write_pts_list(list_xl)\n",
    "    t_xl = run_average(num_iter)[category]\n",
    "    pnt_xr = move_pnt(pnt, sample_range, 0)\n",
    "    list_xr = replace_pnt(pts_list, pnt, pnt_xr)\n",
    "    # plot_pts_list(list_xr)\n",
    "    write_pts_list(list_xr)\n",
    "    t_xr = run_average(num_iter)[category]\n",
    "    print(t_xl, t_xr)\n",
    "    write_pts_list(pts_list)"
   ]
  },
  {
   "cell_type": "code",
   "execution_count": 49,
   "metadata": {},
   "outputs": [
    {
     "name": "stdout",
     "output_type": "stream",
     "text": [
      "100.4 105.5\n"
     ]
    }
   ],
   "source": [
    "write_pts_list(generate_lattice(10, 10))\n",
    "pts_list = read_pts_list()\n",
    "pnt = (5, 5)\n",
    "gradient(pts_list, pnt, 10, 0.5, 1, \"outer_triangle_partition\")"
   ]
  },
  {
   "cell_type": "code",
   "execution_count": null,
   "metadata": {},
   "outputs": [],
   "source": [
    "def optimize()"
   ]
  },
  {
   "cell_type": "code",
   "execution_count": 192,
   "metadata": {},
   "outputs": [
    {
     "data": {
      "text/plain": [
       "[(0.0, 0.0),\n",
       " (1.0, 0.0),\n",
       " (2.0, 0.0),\n",
       " (3.0, 0.0),\n",
       " (4.0, 0.0),\n",
       " (5.0, 0.0),\n",
       " (6.0, 0.0),\n",
       " (7.0, 0.0),\n",
       " (8.0, 0.0),\n",
       " (9.0, 0.0),\n",
       " (0.0, 1.0),\n",
       " (1.0, 1.0),\n",
       " (2.0, 1.0),\n",
       " (3.0, 1.0),\n",
       " (4.0, 1.0),\n",
       " (5.0, 1.0),\n",
       " (6.0, 1.0),\n",
       " (7.0, 1.0),\n",
       " (8.0, 1.0),\n",
       " (9.0, 1.0),\n",
       " (0.0, 2.0),\n",
       " (1.0, 2.0),\n",
       " (2.0, 2.0),\n",
       " (3.0, 2.0),\n",
       " (4.0, 2.0),\n",
       " (5.0, 2.0),\n",
       " (6.0, 2.0),\n",
       " (7.0, 2.0),\n",
       " (8.0, 2.0),\n",
       " (9.0, 2.0),\n",
       " (0.0, 3.0),\n",
       " (1.0, 3.0),\n",
       " (2.0, 3.0),\n",
       " (3.0, 3.0),\n",
       " (4.0, 3.0),\n",
       " (5.0, 3.0),\n",
       " (6.0, 3.0),\n",
       " (7.0, 3.0),\n",
       " (8.0, 3.0),\n",
       " (9.0, 3.0),\n",
       " (0.0, 4.0),\n",
       " (1.0, 4.0),\n",
       " (2.0, 4.0),\n",
       " (3.0, 4.0),\n",
       " (4.0, 4.0),\n",
       " (5.0, 4.0),\n",
       " (6.0, 4.0),\n",
       " (7.0, 4.0),\n",
       " (8.0, 4.0),\n",
       " (9.0, 4.0),\n",
       " (0.0, 5.0),\n",
       " (1.0, 5.0),\n",
       " (2.0, 5.0),\n",
       " (3.0, 5.0),\n",
       " (4.0, 5.0),\n",
       " (5.0, 5.0),\n",
       " (6.0, 5.0),\n",
       " (7.0, 5.0),\n",
       " (8.0, 5.0),\n",
       " (9.0, 5.0),\n",
       " (0.0, 6.0),\n",
       " (1.0, 6.0),\n",
       " (2.0, 6.0),\n",
       " (3.0, 6.0),\n",
       " (4.0, 6.0),\n",
       " (5.0, 6.0),\n",
       " (6.0, 6.0),\n",
       " (7.0, 6.0),\n",
       " (8.0, 6.0),\n",
       " (9.0, 6.0),\n",
       " (0.0, 7.0),\n",
       " (1.0, 7.0),\n",
       " (2.0, 7.0),\n",
       " (3.0, 7.0),\n",
       " (4.0, 7.0),\n",
       " (5.0, 7.0),\n",
       " (6.0, 7.0),\n",
       " (7.0, 7.0),\n",
       " (8.0, 7.0),\n",
       " (9.0, 7.0),\n",
       " (0.0, 8.0),\n",
       " (1.0, 8.0),\n",
       " (2.0, 8.0),\n",
       " (3.0, 8.0),\n",
       " (4.0, 8.0),\n",
       " (5.0, 8.0),\n",
       " (6.0, 8.0),\n",
       " (7.0, 8.0),\n",
       " (8.0, 8.0),\n",
       " (9.0, 8.0),\n",
       " (0.0, 9.0),\n",
       " (1.0, 9.0),\n",
       " (2.0, 9.0),\n",
       " (3.0, 9.0),\n",
       " (4.0, 9.0),\n",
       " (5.0, 9.0),\n",
       " (6.0, 9.0),\n",
       " (7.0, 9.0),\n",
       " (8.0, 9.0),\n",
       " (9.0, 9.0)]"
      ]
     },
     "execution_count": 192,
     "metadata": {},
     "output_type": "execute_result"
    }
   ],
   "source": [
    "pts_list"
   ]
  },
  {
   "cell_type": "code",
   "execution_count": null,
   "metadata": {},
   "outputs": [],
   "source": []
  }
 ],
 "metadata": {
  "kernelspec": {
   "display_name": "Python 3",
   "language": "python",
   "name": "python3"
  },
  "language_info": {
   "codemirror_mode": {
    "name": "ipython",
    "version": 3
   },
   "file_extension": ".py",
   "mimetype": "text/x-python",
   "name": "python",
   "nbconvert_exporter": "python",
   "pygments_lexer": "ipython3",
   "version": "3.6.6"
  }
 },
 "nbformat": 4,
 "nbformat_minor": 2
}
